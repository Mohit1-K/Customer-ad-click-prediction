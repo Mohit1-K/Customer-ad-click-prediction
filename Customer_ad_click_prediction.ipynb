{
  "nbformat": 4,
  "nbformat_minor": 0,
  "metadata": {
    "colab": {
      "name": "Customer ad click prediction.ipynb",
      "provenance": [],
      "collapsed_sections": [],
      "mount_file_id": "https://github.com/Mohit1-K/Customer-ad-click-prediction/blob/main/Customer_ad_click_prediction.ipynb",
      "authorship_tag": "ABX9TyPGbq8IkttZmhfKdsxpNHZH",
      "include_colab_link": true
    },
    "kernelspec": {
      "name": "python3",
      "display_name": "Python 3"
    }
  },
  "cells": [
    {
      "cell_type": "markdown",
      "metadata": {
        "id": "view-in-github",
        "colab_type": "text"
      },
      "source": [
        "<a href=\"https://colab.research.google.com/github/Mohit1-K/Customer-ad-click-prediction/blob/main/Customer_ad_click_prediction.ipynb\" target=\"_parent\"><img src=\"https://colab.research.google.com/assets/colab-badge.svg\" alt=\"Open In Colab\"/></a>"
      ]
    },
    {
      "cell_type": "code",
      "metadata": {
        "id": "4vAIhr6AOMFl"
      },
      "source": [
        "import pandas as pd\n",
        "import numpy as np"
      ],
      "execution_count": 1,
      "outputs": []
    },
    {
      "cell_type": "code",
      "metadata": {
        "id": "_2PIKVpjOjqi"
      },
      "source": [
        "Df= pd.read_csv(\"/content/drive/MyDrive/Notebook work/advertising.csv\")"
      ],
      "execution_count": 2,
      "outputs": []
    },
    {
      "cell_type": "code",
      "metadata": {
        "colab": {
          "base_uri": "https://localhost:8080/",
          "height": 868
        },
        "id": "8SS8jiIXOo6Z",
        "outputId": "b10c769d-8d1c-448d-fec6-c85e48f059b6"
      },
      "source": [
        "Df"
      ],
      "execution_count": 3,
      "outputs": [
        {
          "output_type": "execute_result",
          "data": {
            "text/html": [
              "<div>\n",
              "<style scoped>\n",
              "    .dataframe tbody tr th:only-of-type {\n",
              "        vertical-align: middle;\n",
              "    }\n",
              "\n",
              "    .dataframe tbody tr th {\n",
              "        vertical-align: top;\n",
              "    }\n",
              "\n",
              "    .dataframe thead th {\n",
              "        text-align: right;\n",
              "    }\n",
              "</style>\n",
              "<table border=\"1\" class=\"dataframe\">\n",
              "  <thead>\n",
              "    <tr style=\"text-align: right;\">\n",
              "      <th></th>\n",
              "      <th>Daily Time Spent on Site</th>\n",
              "      <th>Age</th>\n",
              "      <th>Area Income</th>\n",
              "      <th>Daily Internet Usage</th>\n",
              "      <th>Ad Topic Line</th>\n",
              "      <th>City</th>\n",
              "      <th>Male</th>\n",
              "      <th>Country</th>\n",
              "      <th>Timestamp</th>\n",
              "      <th>Clicked on Ad</th>\n",
              "    </tr>\n",
              "  </thead>\n",
              "  <tbody>\n",
              "    <tr>\n",
              "      <th>0</th>\n",
              "      <td>68.95</td>\n",
              "      <td>35</td>\n",
              "      <td>61833.90</td>\n",
              "      <td>256.09</td>\n",
              "      <td>Cloned 5thgeneration orchestration</td>\n",
              "      <td>Wrightburgh</td>\n",
              "      <td>0</td>\n",
              "      <td>Tunisia</td>\n",
              "      <td>2016-03-27 00:53:11</td>\n",
              "      <td>0</td>\n",
              "    </tr>\n",
              "    <tr>\n",
              "      <th>1</th>\n",
              "      <td>80.23</td>\n",
              "      <td>31</td>\n",
              "      <td>68441.85</td>\n",
              "      <td>193.77</td>\n",
              "      <td>Monitored national standardization</td>\n",
              "      <td>West Jodi</td>\n",
              "      <td>1</td>\n",
              "      <td>Nauru</td>\n",
              "      <td>2016-04-04 01:39:02</td>\n",
              "      <td>0</td>\n",
              "    </tr>\n",
              "    <tr>\n",
              "      <th>2</th>\n",
              "      <td>69.47</td>\n",
              "      <td>26</td>\n",
              "      <td>59785.94</td>\n",
              "      <td>236.50</td>\n",
              "      <td>Organic bottom-line service-desk</td>\n",
              "      <td>Davidton</td>\n",
              "      <td>0</td>\n",
              "      <td>San Marino</td>\n",
              "      <td>2016-03-13 20:35:42</td>\n",
              "      <td>0</td>\n",
              "    </tr>\n",
              "    <tr>\n",
              "      <th>3</th>\n",
              "      <td>74.15</td>\n",
              "      <td>29</td>\n",
              "      <td>54806.18</td>\n",
              "      <td>245.89</td>\n",
              "      <td>Triple-buffered reciprocal time-frame</td>\n",
              "      <td>West Terrifurt</td>\n",
              "      <td>1</td>\n",
              "      <td>Italy</td>\n",
              "      <td>2016-01-10 02:31:19</td>\n",
              "      <td>0</td>\n",
              "    </tr>\n",
              "    <tr>\n",
              "      <th>4</th>\n",
              "      <td>68.37</td>\n",
              "      <td>35</td>\n",
              "      <td>73889.99</td>\n",
              "      <td>225.58</td>\n",
              "      <td>Robust logistical utilization</td>\n",
              "      <td>South Manuel</td>\n",
              "      <td>0</td>\n",
              "      <td>Iceland</td>\n",
              "      <td>2016-06-03 03:36:18</td>\n",
              "      <td>0</td>\n",
              "    </tr>\n",
              "    <tr>\n",
              "      <th>...</th>\n",
              "      <td>...</td>\n",
              "      <td>...</td>\n",
              "      <td>...</td>\n",
              "      <td>...</td>\n",
              "      <td>...</td>\n",
              "      <td>...</td>\n",
              "      <td>...</td>\n",
              "      <td>...</td>\n",
              "      <td>...</td>\n",
              "      <td>...</td>\n",
              "    </tr>\n",
              "    <tr>\n",
              "      <th>995</th>\n",
              "      <td>72.97</td>\n",
              "      <td>30</td>\n",
              "      <td>71384.57</td>\n",
              "      <td>208.58</td>\n",
              "      <td>Fundamental modular algorithm</td>\n",
              "      <td>Duffystad</td>\n",
              "      <td>1</td>\n",
              "      <td>Lebanon</td>\n",
              "      <td>2016-02-11 21:49:00</td>\n",
              "      <td>1</td>\n",
              "    </tr>\n",
              "    <tr>\n",
              "      <th>996</th>\n",
              "      <td>51.30</td>\n",
              "      <td>45</td>\n",
              "      <td>67782.17</td>\n",
              "      <td>134.42</td>\n",
              "      <td>Grass-roots cohesive monitoring</td>\n",
              "      <td>New Darlene</td>\n",
              "      <td>1</td>\n",
              "      <td>Bosnia and Herzegovina</td>\n",
              "      <td>2016-04-22 02:07:01</td>\n",
              "      <td>1</td>\n",
              "    </tr>\n",
              "    <tr>\n",
              "      <th>997</th>\n",
              "      <td>51.63</td>\n",
              "      <td>51</td>\n",
              "      <td>42415.72</td>\n",
              "      <td>120.37</td>\n",
              "      <td>Expanded intangible solution</td>\n",
              "      <td>South Jessica</td>\n",
              "      <td>1</td>\n",
              "      <td>Mongolia</td>\n",
              "      <td>2016-02-01 17:24:57</td>\n",
              "      <td>1</td>\n",
              "    </tr>\n",
              "    <tr>\n",
              "      <th>998</th>\n",
              "      <td>55.55</td>\n",
              "      <td>19</td>\n",
              "      <td>41920.79</td>\n",
              "      <td>187.95</td>\n",
              "      <td>Proactive bandwidth-monitored policy</td>\n",
              "      <td>West Steven</td>\n",
              "      <td>0</td>\n",
              "      <td>Guatemala</td>\n",
              "      <td>2016-03-24 02:35:54</td>\n",
              "      <td>0</td>\n",
              "    </tr>\n",
              "    <tr>\n",
              "      <th>999</th>\n",
              "      <td>45.01</td>\n",
              "      <td>26</td>\n",
              "      <td>29875.80</td>\n",
              "      <td>178.35</td>\n",
              "      <td>Virtual 5thgeneration emulation</td>\n",
              "      <td>Ronniemouth</td>\n",
              "      <td>0</td>\n",
              "      <td>Brazil</td>\n",
              "      <td>2016-06-03 21:43:21</td>\n",
              "      <td>1</td>\n",
              "    </tr>\n",
              "  </tbody>\n",
              "</table>\n",
              "<p>1000 rows × 10 columns</p>\n",
              "</div>"
            ],
            "text/plain": [
              "     Daily Time Spent on Site  Age  ...            Timestamp  Clicked on Ad\n",
              "0                       68.95   35  ...  2016-03-27 00:53:11              0\n",
              "1                       80.23   31  ...  2016-04-04 01:39:02              0\n",
              "2                       69.47   26  ...  2016-03-13 20:35:42              0\n",
              "3                       74.15   29  ...  2016-01-10 02:31:19              0\n",
              "4                       68.37   35  ...  2016-06-03 03:36:18              0\n",
              "..                        ...  ...  ...                  ...            ...\n",
              "995                     72.97   30  ...  2016-02-11 21:49:00              1\n",
              "996                     51.30   45  ...  2016-04-22 02:07:01              1\n",
              "997                     51.63   51  ...  2016-02-01 17:24:57              1\n",
              "998                     55.55   19  ...  2016-03-24 02:35:54              0\n",
              "999                     45.01   26  ...  2016-06-03 21:43:21              1\n",
              "\n",
              "[1000 rows x 10 columns]"
            ]
          },
          "metadata": {
            "tags": []
          },
          "execution_count": 3
        }
      ]
    },
    {
      "cell_type": "code",
      "metadata": {
        "colab": {
          "base_uri": "https://localhost:8080/"
        },
        "id": "etzzcu7PQZca",
        "outputId": "555acbc7-625e-4392-9d9a-6c322321c9db"
      },
      "source": [
        "Df.info()"
      ],
      "execution_count": 4,
      "outputs": [
        {
          "output_type": "stream",
          "text": [
            "<class 'pandas.core.frame.DataFrame'>\n",
            "RangeIndex: 1000 entries, 0 to 999\n",
            "Data columns (total 10 columns):\n",
            " #   Column                    Non-Null Count  Dtype  \n",
            "---  ------                    --------------  -----  \n",
            " 0   Daily Time Spent on Site  1000 non-null   float64\n",
            " 1   Age                       1000 non-null   int64  \n",
            " 2   Area Income               1000 non-null   float64\n",
            " 3   Daily Internet Usage      1000 non-null   float64\n",
            " 4   Ad Topic Line             1000 non-null   object \n",
            " 5   City                      1000 non-null   object \n",
            " 6   Male                      1000 non-null   int64  \n",
            " 7   Country                   1000 non-null   object \n",
            " 8   Timestamp                 1000 non-null   object \n",
            " 9   Clicked on Ad             1000 non-null   int64  \n",
            "dtypes: float64(3), int64(3), object(4)\n",
            "memory usage: 78.2+ KB\n"
          ],
          "name": "stdout"
        }
      ]
    },
    {
      "cell_type": "code",
      "metadata": {
        "colab": {
          "base_uri": "https://localhost:8080/"
        },
        "id": "X58jDY41O5NF",
        "outputId": "e330c957-c7e0-45cd-88db-5ac50af9bba3"
      },
      "source": [
        "print(len(Df[\"Country\"].unique()))"
      ],
      "execution_count": 5,
      "outputs": [
        {
          "output_type": "stream",
          "text": [
            "237\n"
          ],
          "name": "stdout"
        }
      ]
    },
    {
      "cell_type": "code",
      "metadata": {
        "id": "jSNgLBd7PR2h"
      },
      "source": [
        "data= Df.drop(columns= [\"Country\" , \"City\", \"Ad Topic Line\"]).copy()"
      ],
      "execution_count": 6,
      "outputs": []
    },
    {
      "cell_type": "code",
      "metadata": {
        "colab": {
          "base_uri": "https://localhost:8080/",
          "height": 378
        },
        "id": "QhzuxfoZPumu",
        "outputId": "07c76bfd-704c-4bd8-8e03-c00cd67e3a59"
      },
      "source": [
        "data.head()"
      ],
      "execution_count": 7,
      "outputs": [
        {
          "output_type": "execute_result",
          "data": {
            "text/html": [
              "<div>\n",
              "<style scoped>\n",
              "    .dataframe tbody tr th:only-of-type {\n",
              "        vertical-align: middle;\n",
              "    }\n",
              "\n",
              "    .dataframe tbody tr th {\n",
              "        vertical-align: top;\n",
              "    }\n",
              "\n",
              "    .dataframe thead th {\n",
              "        text-align: right;\n",
              "    }\n",
              "</style>\n",
              "<table border=\"1\" class=\"dataframe\">\n",
              "  <thead>\n",
              "    <tr style=\"text-align: right;\">\n",
              "      <th></th>\n",
              "      <th>Daily Time Spent on Site</th>\n",
              "      <th>Age</th>\n",
              "      <th>Area Income</th>\n",
              "      <th>Daily Internet Usage</th>\n",
              "      <th>Male</th>\n",
              "      <th>Timestamp</th>\n",
              "      <th>Clicked on Ad</th>\n",
              "    </tr>\n",
              "  </thead>\n",
              "  <tbody>\n",
              "    <tr>\n",
              "      <th>0</th>\n",
              "      <td>68.95</td>\n",
              "      <td>35</td>\n",
              "      <td>61833.90</td>\n",
              "      <td>256.09</td>\n",
              "      <td>0</td>\n",
              "      <td>2016-03-27 00:53:11</td>\n",
              "      <td>0</td>\n",
              "    </tr>\n",
              "    <tr>\n",
              "      <th>1</th>\n",
              "      <td>80.23</td>\n",
              "      <td>31</td>\n",
              "      <td>68441.85</td>\n",
              "      <td>193.77</td>\n",
              "      <td>1</td>\n",
              "      <td>2016-04-04 01:39:02</td>\n",
              "      <td>0</td>\n",
              "    </tr>\n",
              "    <tr>\n",
              "      <th>2</th>\n",
              "      <td>69.47</td>\n",
              "      <td>26</td>\n",
              "      <td>59785.94</td>\n",
              "      <td>236.50</td>\n",
              "      <td>0</td>\n",
              "      <td>2016-03-13 20:35:42</td>\n",
              "      <td>0</td>\n",
              "    </tr>\n",
              "    <tr>\n",
              "      <th>3</th>\n",
              "      <td>74.15</td>\n",
              "      <td>29</td>\n",
              "      <td>54806.18</td>\n",
              "      <td>245.89</td>\n",
              "      <td>1</td>\n",
              "      <td>2016-01-10 02:31:19</td>\n",
              "      <td>0</td>\n",
              "    </tr>\n",
              "    <tr>\n",
              "      <th>4</th>\n",
              "      <td>68.37</td>\n",
              "      <td>35</td>\n",
              "      <td>73889.99</td>\n",
              "      <td>225.58</td>\n",
              "      <td>0</td>\n",
              "      <td>2016-06-03 03:36:18</td>\n",
              "      <td>0</td>\n",
              "    </tr>\n",
              "  </tbody>\n",
              "</table>\n",
              "</div>"
            ],
            "text/plain": [
              "   Daily Time Spent on Site  Age  ...            Timestamp  Clicked on Ad\n",
              "0                     68.95   35  ...  2016-03-27 00:53:11              0\n",
              "1                     80.23   31  ...  2016-04-04 01:39:02              0\n",
              "2                     69.47   26  ...  2016-03-13 20:35:42              0\n",
              "3                     74.15   29  ...  2016-01-10 02:31:19              0\n",
              "4                     68.37   35  ...  2016-06-03 03:36:18              0\n",
              "\n",
              "[5 rows x 7 columns]"
            ]
          },
          "metadata": {
            "tags": []
          },
          "execution_count": 7
        }
      ]
    },
    {
      "cell_type": "code",
      "metadata": {
        "id": "VdFhxfvMP3TF"
      },
      "source": [
        "data[\"Timestamp\"]= pd.to_datetime(data[\"Timestamp\"])"
      ],
      "execution_count": 8,
      "outputs": []
    },
    {
      "cell_type": "code",
      "metadata": {
        "colab": {
          "base_uri": "https://localhost:8080/",
          "height": 378
        },
        "id": "XOE3R5Q7QTT6",
        "outputId": "fd420445-5b48-45ce-f0b9-029c1b2d20cd"
      },
      "source": [
        "data.head()"
      ],
      "execution_count": 9,
      "outputs": [
        {
          "output_type": "execute_result",
          "data": {
            "text/html": [
              "<div>\n",
              "<style scoped>\n",
              "    .dataframe tbody tr th:only-of-type {\n",
              "        vertical-align: middle;\n",
              "    }\n",
              "\n",
              "    .dataframe tbody tr th {\n",
              "        vertical-align: top;\n",
              "    }\n",
              "\n",
              "    .dataframe thead th {\n",
              "        text-align: right;\n",
              "    }\n",
              "</style>\n",
              "<table border=\"1\" class=\"dataframe\">\n",
              "  <thead>\n",
              "    <tr style=\"text-align: right;\">\n",
              "      <th></th>\n",
              "      <th>Daily Time Spent on Site</th>\n",
              "      <th>Age</th>\n",
              "      <th>Area Income</th>\n",
              "      <th>Daily Internet Usage</th>\n",
              "      <th>Male</th>\n",
              "      <th>Timestamp</th>\n",
              "      <th>Clicked on Ad</th>\n",
              "    </tr>\n",
              "  </thead>\n",
              "  <tbody>\n",
              "    <tr>\n",
              "      <th>0</th>\n",
              "      <td>68.95</td>\n",
              "      <td>35</td>\n",
              "      <td>61833.90</td>\n",
              "      <td>256.09</td>\n",
              "      <td>0</td>\n",
              "      <td>2016-03-27 00:53:11</td>\n",
              "      <td>0</td>\n",
              "    </tr>\n",
              "    <tr>\n",
              "      <th>1</th>\n",
              "      <td>80.23</td>\n",
              "      <td>31</td>\n",
              "      <td>68441.85</td>\n",
              "      <td>193.77</td>\n",
              "      <td>1</td>\n",
              "      <td>2016-04-04 01:39:02</td>\n",
              "      <td>0</td>\n",
              "    </tr>\n",
              "    <tr>\n",
              "      <th>2</th>\n",
              "      <td>69.47</td>\n",
              "      <td>26</td>\n",
              "      <td>59785.94</td>\n",
              "      <td>236.50</td>\n",
              "      <td>0</td>\n",
              "      <td>2016-03-13 20:35:42</td>\n",
              "      <td>0</td>\n",
              "    </tr>\n",
              "    <tr>\n",
              "      <th>3</th>\n",
              "      <td>74.15</td>\n",
              "      <td>29</td>\n",
              "      <td>54806.18</td>\n",
              "      <td>245.89</td>\n",
              "      <td>1</td>\n",
              "      <td>2016-01-10 02:31:19</td>\n",
              "      <td>0</td>\n",
              "    </tr>\n",
              "    <tr>\n",
              "      <th>4</th>\n",
              "      <td>68.37</td>\n",
              "      <td>35</td>\n",
              "      <td>73889.99</td>\n",
              "      <td>225.58</td>\n",
              "      <td>0</td>\n",
              "      <td>2016-06-03 03:36:18</td>\n",
              "      <td>0</td>\n",
              "    </tr>\n",
              "  </tbody>\n",
              "</table>\n",
              "</div>"
            ],
            "text/plain": [
              "   Daily Time Spent on Site  Age  ...           Timestamp  Clicked on Ad\n",
              "0                     68.95   35  ... 2016-03-27 00:53:11              0\n",
              "1                     80.23   31  ... 2016-04-04 01:39:02              0\n",
              "2                     69.47   26  ... 2016-03-13 20:35:42              0\n",
              "3                     74.15   29  ... 2016-01-10 02:31:19              0\n",
              "4                     68.37   35  ... 2016-06-03 03:36:18              0\n",
              "\n",
              "[5 rows x 7 columns]"
            ]
          },
          "metadata": {
            "tags": []
          },
          "execution_count": 9
        }
      ]
    },
    {
      "cell_type": "code",
      "metadata": {
        "id": "_dtAdNdXQ2Td"
      },
      "source": [
        "data[\"Hour\"]= data[\"Timestamp\"].dt.hour"
      ],
      "execution_count": 10,
      "outputs": []
    },
    {
      "cell_type": "code",
      "metadata": {
        "colab": {
          "base_uri": "https://localhost:8080/",
          "height": 378
        },
        "id": "qnoCt0MlRE5Q",
        "outputId": "754d9ba3-3190-49ce-d7ec-b644722e6ca9"
      },
      "source": [
        "data.head()"
      ],
      "execution_count": 11,
      "outputs": [
        {
          "output_type": "execute_result",
          "data": {
            "text/html": [
              "<div>\n",
              "<style scoped>\n",
              "    .dataframe tbody tr th:only-of-type {\n",
              "        vertical-align: middle;\n",
              "    }\n",
              "\n",
              "    .dataframe tbody tr th {\n",
              "        vertical-align: top;\n",
              "    }\n",
              "\n",
              "    .dataframe thead th {\n",
              "        text-align: right;\n",
              "    }\n",
              "</style>\n",
              "<table border=\"1\" class=\"dataframe\">\n",
              "  <thead>\n",
              "    <tr style=\"text-align: right;\">\n",
              "      <th></th>\n",
              "      <th>Daily Time Spent on Site</th>\n",
              "      <th>Age</th>\n",
              "      <th>Area Income</th>\n",
              "      <th>Daily Internet Usage</th>\n",
              "      <th>Male</th>\n",
              "      <th>Timestamp</th>\n",
              "      <th>Clicked on Ad</th>\n",
              "      <th>Hour</th>\n",
              "    </tr>\n",
              "  </thead>\n",
              "  <tbody>\n",
              "    <tr>\n",
              "      <th>0</th>\n",
              "      <td>68.95</td>\n",
              "      <td>35</td>\n",
              "      <td>61833.90</td>\n",
              "      <td>256.09</td>\n",
              "      <td>0</td>\n",
              "      <td>2016-03-27 00:53:11</td>\n",
              "      <td>0</td>\n",
              "      <td>0</td>\n",
              "    </tr>\n",
              "    <tr>\n",
              "      <th>1</th>\n",
              "      <td>80.23</td>\n",
              "      <td>31</td>\n",
              "      <td>68441.85</td>\n",
              "      <td>193.77</td>\n",
              "      <td>1</td>\n",
              "      <td>2016-04-04 01:39:02</td>\n",
              "      <td>0</td>\n",
              "      <td>1</td>\n",
              "    </tr>\n",
              "    <tr>\n",
              "      <th>2</th>\n",
              "      <td>69.47</td>\n",
              "      <td>26</td>\n",
              "      <td>59785.94</td>\n",
              "      <td>236.50</td>\n",
              "      <td>0</td>\n",
              "      <td>2016-03-13 20:35:42</td>\n",
              "      <td>0</td>\n",
              "      <td>20</td>\n",
              "    </tr>\n",
              "    <tr>\n",
              "      <th>3</th>\n",
              "      <td>74.15</td>\n",
              "      <td>29</td>\n",
              "      <td>54806.18</td>\n",
              "      <td>245.89</td>\n",
              "      <td>1</td>\n",
              "      <td>2016-01-10 02:31:19</td>\n",
              "      <td>0</td>\n",
              "      <td>2</td>\n",
              "    </tr>\n",
              "    <tr>\n",
              "      <th>4</th>\n",
              "      <td>68.37</td>\n",
              "      <td>35</td>\n",
              "      <td>73889.99</td>\n",
              "      <td>225.58</td>\n",
              "      <td>0</td>\n",
              "      <td>2016-06-03 03:36:18</td>\n",
              "      <td>0</td>\n",
              "      <td>3</td>\n",
              "    </tr>\n",
              "  </tbody>\n",
              "</table>\n",
              "</div>"
            ],
            "text/plain": [
              "   Daily Time Spent on Site  Age  ...  Clicked on Ad  Hour\n",
              "0                     68.95   35  ...              0     0\n",
              "1                     80.23   31  ...              0     1\n",
              "2                     69.47   26  ...              0    20\n",
              "3                     74.15   29  ...              0     2\n",
              "4                     68.37   35  ...              0     3\n",
              "\n",
              "[5 rows x 8 columns]"
            ]
          },
          "metadata": {
            "tags": []
          },
          "execution_count": 11
        }
      ]
    },
    {
      "cell_type": "code",
      "metadata": {
        "colab": {
          "base_uri": "https://localhost:8080/"
        },
        "id": "k6NK0mQzRKtR",
        "outputId": "a653c58c-682e-4384-da0d-028f03840d04"
      },
      "source": [
        "data.info()"
      ],
      "execution_count": 12,
      "outputs": [
        {
          "output_type": "stream",
          "text": [
            "<class 'pandas.core.frame.DataFrame'>\n",
            "RangeIndex: 1000 entries, 0 to 999\n",
            "Data columns (total 8 columns):\n",
            " #   Column                    Non-Null Count  Dtype         \n",
            "---  ------                    --------------  -----         \n",
            " 0   Daily Time Spent on Site  1000 non-null   float64       \n",
            " 1   Age                       1000 non-null   int64         \n",
            " 2   Area Income               1000 non-null   float64       \n",
            " 3   Daily Internet Usage      1000 non-null   float64       \n",
            " 4   Male                      1000 non-null   int64         \n",
            " 5   Timestamp                 1000 non-null   datetime64[ns]\n",
            " 6   Clicked on Ad             1000 non-null   int64         \n",
            " 7   Hour                      1000 non-null   int64         \n",
            "dtypes: datetime64[ns](1), float64(3), int64(4)\n",
            "memory usage: 62.6 KB\n"
          ],
          "name": "stdout"
        }
      ]
    },
    {
      "cell_type": "code",
      "metadata": {
        "id": "vpbGmn5kT-Ba"
      },
      "source": [
        "X= data.drop(\"Clicked on Ad\", axis=1)"
      ],
      "execution_count": 13,
      "outputs": []
    },
    {
      "cell_type": "code",
      "metadata": {
        "id": "dRp5ngpOUYO0"
      },
      "source": [
        "y= data[\"Clicked on Ad\"]"
      ],
      "execution_count": 14,
      "outputs": []
    },
    {
      "cell_type": "code",
      "metadata": {
        "colab": {
          "base_uri": "https://localhost:8080/",
          "height": 378
        },
        "id": "tLUNb5o3U2wV",
        "outputId": "80ca9580-eb6d-4215-e275-9c681e737171"
      },
      "source": [
        "X.head()"
      ],
      "execution_count": 15,
      "outputs": [
        {
          "output_type": "execute_result",
          "data": {
            "text/html": [
              "<div>\n",
              "<style scoped>\n",
              "    .dataframe tbody tr th:only-of-type {\n",
              "        vertical-align: middle;\n",
              "    }\n",
              "\n",
              "    .dataframe tbody tr th {\n",
              "        vertical-align: top;\n",
              "    }\n",
              "\n",
              "    .dataframe thead th {\n",
              "        text-align: right;\n",
              "    }\n",
              "</style>\n",
              "<table border=\"1\" class=\"dataframe\">\n",
              "  <thead>\n",
              "    <tr style=\"text-align: right;\">\n",
              "      <th></th>\n",
              "      <th>Daily Time Spent on Site</th>\n",
              "      <th>Age</th>\n",
              "      <th>Area Income</th>\n",
              "      <th>Daily Internet Usage</th>\n",
              "      <th>Male</th>\n",
              "      <th>Timestamp</th>\n",
              "      <th>Hour</th>\n",
              "    </tr>\n",
              "  </thead>\n",
              "  <tbody>\n",
              "    <tr>\n",
              "      <th>0</th>\n",
              "      <td>68.95</td>\n",
              "      <td>35</td>\n",
              "      <td>61833.90</td>\n",
              "      <td>256.09</td>\n",
              "      <td>0</td>\n",
              "      <td>2016-03-27 00:53:11</td>\n",
              "      <td>0</td>\n",
              "    </tr>\n",
              "    <tr>\n",
              "      <th>1</th>\n",
              "      <td>80.23</td>\n",
              "      <td>31</td>\n",
              "      <td>68441.85</td>\n",
              "      <td>193.77</td>\n",
              "      <td>1</td>\n",
              "      <td>2016-04-04 01:39:02</td>\n",
              "      <td>1</td>\n",
              "    </tr>\n",
              "    <tr>\n",
              "      <th>2</th>\n",
              "      <td>69.47</td>\n",
              "      <td>26</td>\n",
              "      <td>59785.94</td>\n",
              "      <td>236.50</td>\n",
              "      <td>0</td>\n",
              "      <td>2016-03-13 20:35:42</td>\n",
              "      <td>20</td>\n",
              "    </tr>\n",
              "    <tr>\n",
              "      <th>3</th>\n",
              "      <td>74.15</td>\n",
              "      <td>29</td>\n",
              "      <td>54806.18</td>\n",
              "      <td>245.89</td>\n",
              "      <td>1</td>\n",
              "      <td>2016-01-10 02:31:19</td>\n",
              "      <td>2</td>\n",
              "    </tr>\n",
              "    <tr>\n",
              "      <th>4</th>\n",
              "      <td>68.37</td>\n",
              "      <td>35</td>\n",
              "      <td>73889.99</td>\n",
              "      <td>225.58</td>\n",
              "      <td>0</td>\n",
              "      <td>2016-06-03 03:36:18</td>\n",
              "      <td>3</td>\n",
              "    </tr>\n",
              "  </tbody>\n",
              "</table>\n",
              "</div>"
            ],
            "text/plain": [
              "   Daily Time Spent on Site  Age  Area Income  ...  Male           Timestamp Hour\n",
              "0                     68.95   35     61833.90  ...     0 2016-03-27 00:53:11    0\n",
              "1                     80.23   31     68441.85  ...     1 2016-04-04 01:39:02    1\n",
              "2                     69.47   26     59785.94  ...     0 2016-03-13 20:35:42   20\n",
              "3                     74.15   29     54806.18  ...     1 2016-01-10 02:31:19    2\n",
              "4                     68.37   35     73889.99  ...     0 2016-06-03 03:36:18    3\n",
              "\n",
              "[5 rows x 7 columns]"
            ]
          },
          "metadata": {
            "tags": []
          },
          "execution_count": 15
        }
      ]
    },
    {
      "cell_type": "code",
      "metadata": {
        "colab": {
          "base_uri": "https://localhost:8080/"
        },
        "id": "yBzEyjAqU6J0",
        "outputId": "dbbc8abd-b206-4604-a5a3-25fe6e698d26"
      },
      "source": [
        "y.head()"
      ],
      "execution_count": 16,
      "outputs": [
        {
          "output_type": "execute_result",
          "data": {
            "text/plain": [
              "0    0\n",
              "1    0\n",
              "2    0\n",
              "3    0\n",
              "4    0\n",
              "Name: Clicked on Ad, dtype: int64"
            ]
          },
          "metadata": {
            "tags": []
          },
          "execution_count": 16
        }
      ]
    },
    {
      "cell_type": "code",
      "metadata": {
        "id": "2my9lGnwVYjA"
      },
      "source": [
        " \n",
        "import datetime as dt\n",
        "X['Timestamp']=X['Timestamp'].map(dt.datetime.toordinal)"
      ],
      "execution_count": 17,
      "outputs": []
    },
    {
      "cell_type": "code",
      "metadata": {
        "colab": {
          "base_uri": "https://localhost:8080/"
        },
        "id": "zEkBtxp-VvD6",
        "outputId": "4f4896a8-ebcf-4a72-c9bb-71b70fa68a95"
      },
      "source": [
        "X.info()"
      ],
      "execution_count": 18,
      "outputs": [
        {
          "output_type": "stream",
          "text": [
            "<class 'pandas.core.frame.DataFrame'>\n",
            "RangeIndex: 1000 entries, 0 to 999\n",
            "Data columns (total 7 columns):\n",
            " #   Column                    Non-Null Count  Dtype  \n",
            "---  ------                    --------------  -----  \n",
            " 0   Daily Time Spent on Site  1000 non-null   float64\n",
            " 1   Age                       1000 non-null   int64  \n",
            " 2   Area Income               1000 non-null   float64\n",
            " 3   Daily Internet Usage      1000 non-null   float64\n",
            " 4   Male                      1000 non-null   int64  \n",
            " 5   Timestamp                 1000 non-null   int64  \n",
            " 6   Hour                      1000 non-null   int64  \n",
            "dtypes: float64(3), int64(4)\n",
            "memory usage: 54.8 KB\n"
          ],
          "name": "stdout"
        }
      ]
    },
    {
      "cell_type": "code",
      "metadata": {
        "id": "0GkL7v49Vxpu"
      },
      "source": [
        "from sklearn.model_selection import train_test_split,GridSearchCV"
      ],
      "execution_count": 19,
      "outputs": []
    },
    {
      "cell_type": "code",
      "metadata": {
        "id": "4gBOlaMbAtZT"
      },
      "source": [
        "X_train, X_test, y_train, y_test= train_test_split(X,y, test_size= 0.30)"
      ],
      "execution_count": 20,
      "outputs": []
    },
    {
      "cell_type": "code",
      "metadata": {
        "id": "FWNrMzx5BWne"
      },
      "source": [
        "from sklearn.svm import SVC\n",
        "model= SVC()\n",
        "from sklearn.linear_model import LogisticRegression\n",
        "Le= LogisticRegression()"
      ],
      "execution_count": 21,
      "outputs": []
    },
    {
      "cell_type": "code",
      "metadata": {
        "id": "Wz2KvV52BdkT",
        "outputId": "34e9b436-f198-45f3-e2b7-4d9be6009d93",
        "colab": {
          "base_uri": "https://localhost:8080/"
        }
      },
      "source": [
        "Le.fit(X_train, y_train)"
      ],
      "execution_count": 22,
      "outputs": [
        {
          "output_type": "stream",
          "text": [
            "/usr/local/lib/python3.6/dist-packages/sklearn/linear_model/_logistic.py:940: ConvergenceWarning: lbfgs failed to converge (status=1):\n",
            "STOP: TOTAL NO. of ITERATIONS REACHED LIMIT.\n",
            "\n",
            "Increase the number of iterations (max_iter) or scale the data as shown in:\n",
            "    https://scikit-learn.org/stable/modules/preprocessing.html\n",
            "Please also refer to the documentation for alternative solver options:\n",
            "    https://scikit-learn.org/stable/modules/linear_model.html#logistic-regression\n",
            "  extra_warning_msg=_LOGISTIC_SOLVER_CONVERGENCE_MSG)\n"
          ],
          "name": "stderr"
        },
        {
          "output_type": "execute_result",
          "data": {
            "text/plain": [
              "LogisticRegression(C=1.0, class_weight=None, dual=False, fit_intercept=True,\n",
              "                   intercept_scaling=1, l1_ratio=None, max_iter=100,\n",
              "                   multi_class='auto', n_jobs=None, penalty='l2',\n",
              "                   random_state=None, solver='lbfgs', tol=0.0001, verbose=0,\n",
              "                   warm_start=False)"
            ]
          },
          "metadata": {
            "tags": []
          },
          "execution_count": 22
        }
      ]
    },
    {
      "cell_type": "code",
      "metadata": {
        "id": "mOdw0h6KCNvq",
        "outputId": "94401577-4f0f-4c9f-ed6b-2b172a92412f",
        "colab": {
          "base_uri": "https://localhost:8080/"
        }
      },
      "source": [
        "Le.score(X_test, y_test)"
      ],
      "execution_count": 23,
      "outputs": [
        {
          "output_type": "execute_result",
          "data": {
            "text/plain": [
              "0.9633333333333334"
            ]
          },
          "metadata": {
            "tags": []
          },
          "execution_count": 23
        }
      ]
    },
    {
      "cell_type": "code",
      "metadata": {
        "id": "KEiiq-vvJZZl"
      },
      "source": [
        "pred=np.array(Le.predict(X_test))"
      ],
      "execution_count": 30,
      "outputs": []
    },
    {
      "cell_type": "code",
      "metadata": {
        "id": "-mYN98S1JB00"
      },
      "source": [
        "from sklearn.metrics import accuracy_score, classification_report"
      ],
      "execution_count": 33,
      "outputs": []
    },
    {
      "cell_type": "code",
      "metadata": {
        "id": "Ep26JWNnJPeB",
        "outputId": "f4cf5e00-a05a-455d-e79d-7df36d6a1cac",
        "colab": {
          "base_uri": "https://localhost:8080/"
        }
      },
      "source": [
        "print(classification_report(y_test, pred))"
      ],
      "execution_count": 34,
      "outputs": [
        {
          "output_type": "stream",
          "text": [
            "              precision    recall  f1-score   support\n",
            "\n",
            "           0       0.94      0.99      0.96       140\n",
            "           1       0.99      0.94      0.96       160\n",
            "\n",
            "    accuracy                           0.96       300\n",
            "   macro avg       0.96      0.96      0.96       300\n",
            "weighted avg       0.96      0.96      0.96       300\n",
            "\n"
          ],
          "name": "stdout"
        }
      ]
    }
  ]
}